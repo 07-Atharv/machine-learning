{
  "nbformat": 4,
  "nbformat_minor": 0,
  "metadata": {
    "colab": {
      "provenance": []
    },
    "kernelspec": {
      "name": "python3",
      "display_name": "Python 3"
    },
    "language_info": {
      "name": "python"
    }
  },
  "cells": [
    {
      "cell_type": "markdown",
      "source": [
        "# **`Demo of Logistic Regression - DS Lab `**"
      ],
      "metadata": {
        "id": "266147rS6ia7"
      }
    },
    {
      "cell_type": "markdown",
      "source": [
        "# **Binomial Logistic Regression With scikit-learn**"
      ],
      "metadata": {
        "id": "Fzgcp0_F8t0C"
      }
    },
    {
      "cell_type": "markdown",
      "source": [
        "# Step 1: Import packages and classes"
      ],
      "metadata": {
        "id": "AMIdq7vL6ahj"
      }
    },
    {
      "cell_type": "code",
      "source": [
        "import matplotlib.pyplot as plt\n",
        "import numpy as np\n",
        "from sklearn.linear_model import LogisticRegression\n",
        "from sklearn.metrics import classification_report, confusion_matrix"
      ],
      "metadata": {
        "id": "TVpjMMTb6ZOO"
      },
      "execution_count": null,
      "outputs": []
    },
    {
      "cell_type": "markdown",
      "source": [],
      "metadata": {
        "id": "pLwEa5peheFY"
      }
    },
    {
      "cell_type": "markdown",
      "source": [
        "# Step 2: Provide data"
      ],
      "metadata": {
        "id": "pgJZR6lP6w_S"
      }
    },
    {
      "cell_type": "code",
      "source": [
        "x = np.arange(10).reshape(-1, 1)\n",
        "y = np.array([0, 0, 0, 0, 1, 1, 1, 1, 1, 1])"
      ],
      "metadata": {
        "id": "2zLskC0CqLGh"
      },
      "execution_count": null,
      "outputs": []
    },
    {
      "cell_type": "code",
      "source": [
        "print(x.shape)\n",
        "print(y.shape)"
      ],
      "metadata": {
        "id": "4BeMIPkTqQw1",
        "colab": {
          "base_uri": "https://localhost:8080/"
        },
        "outputId": "55830845-55a2-41c2-8179-f8906aa20f66"
      },
      "execution_count": null,
      "outputs": [
        {
          "output_type": "stream",
          "name": "stdout",
          "text": [
            "(10, 1)\n",
            "(10,)\n"
          ]
        }
      ]
    },
    {
      "cell_type": "code",
      "source": [
        "print(x)"
      ],
      "metadata": {
        "colab": {
          "base_uri": "https://localhost:8080/"
        },
        "id": "b_P8Mgql6ZRS",
        "outputId": "4e0fdf9a-6611-4335-bb42-f05986ed2801"
      },
      "execution_count": null,
      "outputs": [
        {
          "output_type": "stream",
          "name": "stdout",
          "text": [
            "[[0]\n",
            " [1]\n",
            " [2]\n",
            " [3]\n",
            " [4]\n",
            " [5]\n",
            " [6]\n",
            " [7]\n",
            " [8]\n",
            " [9]]\n"
          ]
        }
      ]
    },
    {
      "cell_type": "code",
      "source": [
        "print(y)"
      ],
      "metadata": {
        "colab": {
          "base_uri": "https://localhost:8080/"
        },
        "id": "ey-_jODp6ZT6",
        "outputId": "f129b84f-9146-4a16-d099-cc06a8a5ecb8"
      },
      "execution_count": null,
      "outputs": [
        {
          "output_type": "stream",
          "name": "stdout",
          "text": [
            "[0 0 0 0 1 1 1 1 1 1]\n"
          ]
        }
      ]
    },
    {
      "cell_type": "markdown",
      "source": [
        "# Step 3: Create a model and fit it"
      ],
      "metadata": {
        "id": "NB560P9O69Ot"
      }
    },
    {
      "cell_type": "markdown",
      "source": [
        "\n",
        "\n",
        "*   fit_intercept is a Boolean (True by default) that decides whether to calculate the intercept 𝑏₀ (True) or consider it equal to zero (False).\n",
        "*   normalize is a Boolean (False by default) that decides whether to normalize the input variables (True) or not (False).\n",
        "* copy_X is a Boolean (True by default) that decides whether to copy (True) or overwrite the input variables (False).\n",
        "* n_jobs is an integer or None (default) and represents the number of jobs used in parallel computation. None usually means one job and -1 to use all processors."
      ],
      "metadata": {
        "id": "ZuTWYcmc7FtD"
      }
    },
    {
      "cell_type": "code",
      "source": [
        "model = LogisticRegression(random_state=0)"
      ],
      "metadata": {
        "id": "k_qpAxP36ZWS"
      },
      "execution_count": null,
      "outputs": []
    },
    {
      "cell_type": "code",
      "source": [
        "model.fit(x, y)\n",
        "\n",
        "#model = LogisticRegression(random_state=0).fit(x, y)"
      ],
      "metadata": {
        "id": "ke9KG5Wy6ZZD",
        "colab": {
          "base_uri": "https://localhost:8080/"
        },
        "outputId": "ffe10fc9-2c69-4882-da9d-1e76ed751670"
      },
      "execution_count": null,
      "outputs": [
        {
          "output_type": "execute_result",
          "data": {
            "text/plain": [
              "LogisticRegression(random_state=0)"
            ]
          },
          "metadata": {},
          "execution_count": 8
        }
      ]
    },
    {
      "cell_type": "code",
      "source": [
        "# attribute .classes_ represents the array of distinct values that y takes:\n",
        "model.classes_"
      ],
      "metadata": {
        "id": "VdLvi-o27f4T",
        "colab": {
          "base_uri": "https://localhost:8080/"
        },
        "outputId": "392dfce9-5067-4dc0-c084-592940988218"
      },
      "execution_count": null,
      "outputs": [
        {
          "output_type": "execute_result",
          "data": {
            "text/plain": [
              "array([0, 1])"
            ]
          },
          "metadata": {},
          "execution_count": 9
        }
      ]
    },
    {
      "cell_type": "markdown",
      "source": [
        "# Step 4: Get results"
      ],
      "metadata": {
        "id": "UhA_gNO67d08"
      }
    },
    {
      "cell_type": "code",
      "source": [
        "print('intercept:', model.intercept_)"
      ],
      "metadata": {
        "colab": {
          "base_uri": "https://localhost:8080/"
        },
        "id": "hOb3C1pi7p2L",
        "outputId": "40d9a2cb-a333-461b-b35b-70a75aa04695"
      },
      "execution_count": null,
      "outputs": [
        {
          "output_type": "stream",
          "name": "stdout",
          "text": [
            "intercept: [-4.12617727]\n"
          ]
        }
      ]
    },
    {
      "cell_type": "code",
      "source": [
        "print('slope:', model.coef_)"
      ],
      "metadata": {
        "colab": {
          "base_uri": "https://localhost:8080/"
        },
        "id": "Ka0HYrd57p8i",
        "outputId": "8b2db5d4-6b5b-466a-fba3-f144db1f9ac8"
      },
      "execution_count": null,
      "outputs": [
        {
          "output_type": "stream",
          "name": "stdout",
          "text": [
            "slope: [[1.18109091]]\n"
          ]
        }
      ]
    },
    {
      "cell_type": "markdown",
      "source": [
        "# Step 5: Evalaute the model, Predict response"
      ],
      "metadata": {
        "id": "vn6YkmAv7v9z"
      }
    },
    {
      "cell_type": "code",
      "source": [
        "y_pred_proba = model.predict_proba(x)"
      ],
      "metadata": {
        "id": "0APeHkP17sZE"
      },
      "execution_count": null,
      "outputs": []
    },
    {
      "cell_type": "code",
      "source": [
        "print('predicted probabilities of response variable:', y_pred_proba, sep='\\n')"
      ],
      "metadata": {
        "colab": {
          "base_uri": "https://localhost:8080/"
        },
        "id": "HVuocni37zWc",
        "outputId": "6e97741a-a47f-4109-faec-1d7a443a8d83"
      },
      "execution_count": null,
      "outputs": [
        {
          "output_type": "stream",
          "name": "stdout",
          "text": [
            "predicted probabilities of response variable:\n",
            "[[0.98411203 0.01588797]\n",
            " [0.95003074 0.04996926]\n",
            " [0.85370936 0.14629064]\n",
            " [0.64173546 0.35826454]\n",
            " [0.35475873 0.64524127]\n",
            " [0.1443924  0.8556076 ]\n",
            " [0.04924876 0.95075124]\n",
            " [0.01565079 0.98434921]\n",
            " [0.00485659 0.99514341]\n",
            " [0.00149573 0.99850427]]\n"
          ]
        }
      ]
    },
    {
      "cell_type": "code",
      "source": [
        "y_pred = model.predict(x)"
      ],
      "metadata": {
        "id": "aOS8-NLQjMT-"
      },
      "execution_count": null,
      "outputs": []
    },
    {
      "cell_type": "code",
      "source": [
        "print('predicted response:', y_pred, sep='\\n')"
      ],
      "metadata": {
        "colab": {
          "base_uri": "https://localhost:8080/"
        },
        "id": "ZRITtRKajUD_",
        "outputId": "7b29d99f-e92b-4002-e588-bb32e82152b4"
      },
      "execution_count": null,
      "outputs": [
        {
          "output_type": "stream",
          "name": "stdout",
          "text": [
            "predicted response:\n",
            "[0 0 0 0 1 1 1 1 1 1]\n"
          ]
        }
      ]
    },
    {
      "cell_type": "code",
      "source": [
        "#accuracy of model = returns the ratio of the number of correct predictions to the number of observations.\n",
        "model.score(x,y)"
      ],
      "metadata": {
        "colab": {
          "base_uri": "https://localhost:8080/"
        },
        "id": "EuTUR_v0jyLH",
        "outputId": "8a2ffbd1-f2d3-4418-ad8d-09f8a47ede0c"
      },
      "execution_count": null,
      "outputs": [
        {
          "output_type": "execute_result",
          "data": {
            "text/plain": [
              "1.0"
            ]
          },
          "metadata": {},
          "execution_count": 16
        }
      ]
    },
    {
      "cell_type": "code",
      "source": [
        "# in case of binary classification, True negatives in the upper-left position, False negatives in the lower-left position,\n",
        "#False positives in the upper-right position, True positives in the lower-right position\n",
        "\n",
        "conf_m = confusion_matrix(y, y_pred)\n",
        "print('conf_m:', conf_m, sep='\\n', end='\\n\\n')\n",
        "\n",
        "report = classification_report(y, y_pred)\n",
        "print('report:', report, sep='\\n')"
      ],
      "metadata": {
        "colab": {
          "base_uri": "https://localhost:8080/"
        },
        "id": "MWwvTNoQksNG",
        "outputId": "913169cf-c6ef-4b09-a2f7-afee443f55e1"
      },
      "execution_count": null,
      "outputs": [
        {
          "output_type": "stream",
          "name": "stdout",
          "text": [
            "conf_m:\n",
            "[[4 0]\n",
            " [0 6]]\n",
            "\n",
            "report:\n",
            "              precision    recall  f1-score   support\n",
            "\n",
            "           0       1.00      1.00      1.00         4\n",
            "           1       1.00      1.00      1.00         6\n",
            "\n",
            "    accuracy                           1.00        10\n",
            "   macro avg       1.00      1.00      1.00        10\n",
            "weighted avg       1.00      1.00      1.00        10\n",
            "\n"
          ]
        }
      ]
    },
    {
      "cell_type": "markdown",
      "source": [
        "# Test the performance using fitted model"
      ],
      "metadata": {
        "id": "Qxz0iDMG8FZT"
      }
    },
    {
      "cell_type": "code",
      "source": [
        "x_new = np.arange(5).reshape((-1, 1))\n",
        "print(x_new)"
      ],
      "metadata": {
        "colab": {
          "base_uri": "https://localhost:8080/"
        },
        "id": "2_dMugPr8A6K",
        "outputId": "9ad188c3-155a-4b73-f72d-baf0d01ce164"
      },
      "execution_count": null,
      "outputs": [
        {
          "output_type": "stream",
          "name": "stdout",
          "text": [
            "[[0]\n",
            " [1]\n",
            " [2]\n",
            " [3]\n",
            " [4]]\n"
          ]
        }
      ]
    },
    {
      "cell_type": "code",
      "source": [
        "y_new = model.predict(x_new)\n",
        "print(y_new)"
      ],
      "metadata": {
        "colab": {
          "base_uri": "https://localhost:8080/"
        },
        "id": "X8GTbt4c8Nw8",
        "outputId": "1212a8ac-8a37-4d36-e189-869ea1f86615"
      },
      "execution_count": null,
      "outputs": [
        {
          "output_type": "stream",
          "name": "stdout",
          "text": [
            "[0 0 0 0 1]\n"
          ]
        }
      ]
    },
    {
      "cell_type": "code",
      "source": [
        "import seaborn as sns\n",
        "import matplotlib.pyplot as plt"
      ],
      "metadata": {
        "id": "l3ILfjwP_2pD"
      },
      "execution_count": null,
      "outputs": []
    },
    {
      "cell_type": "code",
      "source": [
        "fig, ax = plt.subplots()\n",
        "ax.scatter(x_new, y_new);"
      ],
      "metadata": {
        "colab": {
          "base_uri": "https://localhost:8080/",
          "height": 265
        },
        "id": "JW9EeCv7_5u6",
        "outputId": "e6780f61-c097-4e94-949a-f8ee0921180f"
      },
      "execution_count": null,
      "outputs": [
        {
          "output_type": "display_data",
          "data": {
            "text/plain": [
              "<Figure size 432x288 with 1 Axes>"
            ],
            "image/png": "[encoded data removed]"
          },
          "metadata": {
            "needs_background": "light"
          }
        }
      ]
    },
    {
      "cell_type": "code",
      "source": [
        "import seaborn as sns"
      ],
      "metadata": {
        "id": "VkaOpVCMth2s"
      },
      "execution_count": null,
      "outputs": []
    },
    {
      "cell_type": "markdown",
      "source": [
        "# Draw a scatterplot and regression line\n",
        "![image.png](data:image/png;base64,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)"
      ],
      "metadata": {
        "id": "U_TSry4rDdNa"
      }
    },
    {
      "cell_type": "code",
      "source": [],
      "metadata": {
        "id": "w5h9ENM-cbsi"
      },
      "execution_count": null,
      "outputs": []
    },
    {
      "cell_type": "markdown",
      "source": [
        "# Multinomial Logistic-Regression-for Social Network Advertising Company\n",
        "\n",
        "---\n",
        "\n",
        "# ***Using Logistic Regression model to predict if a person is going to buy a new car or not based on the available data***\n",
        "\n",
        "---\n",
        "\n"
      ],
      "metadata": {
        "id": "YkndCtUAf5cF"
      }
    },
    {
      "cell_type": "markdown",
      "source": [
        "# **Problem statement:** Suppose a company is going to launch a new campaign for their new brand of car and want to know which category of people are likely to buy their brand new car so they can have the ads that target those peoples. For this they contacted a social network advertising company which have the data from another similar successful campaign. Now, they want to make a model which helps achieve their goal."
      ],
      "metadata": {
        "id": "tBk9ovGpgb1u"
      }
    },
    {
      "cell_type": "code",
      "source": [
        "import numpy as np\n",
        "import matplotlib.pyplot as plt\n",
        "import pandas as pd\n",
        "import seaborn as sns\n"
      ],
      "metadata": {
        "id": "-DYbQqQzcb-S"
      },
      "execution_count": null,
      "outputs": []
    },
    {
      "cell_type": "code",
      "source": [
        "# Importing the dataset\n",
        "dataset = pd.read_csv('Social_Network_Ads.csv')\n",
        "\n",
        "#looking at the first 5 values of the dataset\n",
        "dataset.head()"
      ],
      "metadata": {
        "id": "uwl61gcDccCD",
        "colab": {
          "base_uri": "https://localhost:8080/",
          "height": 206
        },
        "outputId": "ff59b624-7c97-45bf-d7c8-f15856ddd6f5"
      },
      "execution_count": null,
      "outputs": [
        {
          "output_type": "execute_result",
          "data": {
            "text/plain": [
              "    User ID  Gender   Age  EstimatedSalary  Purchased\n",
              "0  15624510    Male  19.0          19000.0          0\n",
              "1  15810944    Male  35.0          20000.0          0\n",
              "2  15668575  Female  26.0          43000.0          0\n",
              "3  15603246  Female  27.0          57000.0          0\n",
              "4  15804002    Male  19.0          76000.0          0"
            ],
            "text/html": [
              "\n",
              "  <div id=\"df-44883561-1a24-4ffd-88e3-375d79f11251\">\n",
              "    <div class=\"colab-df-container\">\n",
              "      <div>\n",
              "<style scoped>\n",
              "    .dataframe tbody tr th:only-of-type {\n",
              "        vertical-align: middle;\n",
              "    }\n",
              "\n",
              "    .dataframe tbody tr th {\n",
              "        vertical-align: top;\n",
              "    }\n",
              "\n",
              "    .dataframe thead th {\n",
              "        text-align: right;\n",
              "    }\n",
              "</style>\n",
              "<table border=\"1\" class=\"dataframe\">\n",
              "  <thead>\n",
              "    <tr style=\"text-align: right;\">\n",
              "      <th></th>\n",
              "      <th>User ID</th>\n",
              "      <th>Gender</th>\n",
              "      <th>Age</th>\n",
              "      <th>EstimatedSalary</th>\n",
              "      <th>Purchased</th>\n",
              "    </tr>\n",
              "  </thead>\n",
              "  <tbody>\n",
              "    <tr>\n",
              "      <th>0</th>\n",
              "      <td>15624510</td>\n",
              "      <td>Male</td>\n",
              "      <td>19.0</td>\n",
              "      <td>19000.0</td>\n",
              "      <td>0</td>\n",
              "    </tr>\n",
              "    <tr>\n",
              "      <th>1</th>\n",
              "      <td>15810944</td>\n",
              "      <td>Male</td>\n",
              "      <td>35.0</td>\n",
              "      <td>20000.0</td>\n",
              "      <td>0</td>\n",
              "    </tr>\n",
              "    <tr>\n",
              "      <th>2</th>\n",
              "      <td>15668575</td>\n",
              "      <td>Female</td>\n",
              "      <td>26.0</td>\n",
              "      <td>43000.0</td>\n",
              "      <td>0</td>\n",
              "    </tr>\n",
              "    <tr>\n",
              "      <th>3</th>\n",
              "      <td>15603246</td>\n",
              "      <td>Female</td>\n",
              "      <td>27.0</td>\n",
              "      <td>57000.0</td>\n",
              "      <td>0</td>\n",
              "    </tr>\n",
              "    <tr>\n",
              "      <th>4</th>\n",
              "      <td>15804002</td>\n",
              "      <td>Male</td>\n",
              "      <td>19.0</td>\n",
              "      <td>76000.0</td>\n",
              "      <td>0</td>\n",
              "    </tr>\n",
              "  </tbody>\n",
              "</table>\n",
              "</div>\n",
              "      <button class=\"colab-df-convert\" onclick=\"convertToInteractive('df-44883561-1a24-4ffd-88e3-375d79f11251')\"\n",
              "              title=\"Convert this dataframe to an interactive table.\"\n",
              "              style=\"display:none;\">\n",
              "        \n",
              "  <svg xmlns=\"http://www.w3.org/2000/svg\" height=\"24px\"viewBox=\"0 0 24 24\"\n",
              "       width=\"24px\">\n",
              "    <path d=\"M0 0h24v24H0V0z\" fill=\"none\"/>\n",
              "    <path d=\"M18.56 5.44l.94 2.06.94-2.06 2.06-.94-2.06-.94-.94-2.06-.94 2.06-2.06.94zm-11 1L8.5 8.5l.94-2.06 2.06-.94-2.06-.94L8.5 2.5l-.94 2.06-2.06.94zm10 10l.94 2.06.94-2.06 2.06-.94-2.06-.94-.94-2.06-.94 2.06-2.06.94z\"/><path d=\"M17.41 7.96l-1.37-1.37c-.4-.4-.92-.59-1.43-.59-.52 0-1.04.2-1.43.59L10.3 9.45l-7.72 7.72c-.78.78-.78 2.05 0 2.83L4 21.41c.39.39.9.59 1.41.59.51 0 1.02-.2 1.41-.59l7.78-7.78 2.81-2.81c.8-.78.8-2.07 0-2.86zM5.41 20L4 18.59l7.72-7.72 1.47 1.35L5.41 20z\"/>\n",
              "  </svg>\n",
              "      </button>\n",
              "      \n",
              "  <style>\n",
              "    .colab-df-container {\n",
              "      display:flex;\n",
              "      flex-wrap:wrap;\n",
              "      gap: 12px;\n",
              "    }\n",
              "\n",
              "    .colab-df-convert {\n",
              "      background-color: #E8F0FE;\n",
              "      border: none;\n",
              "      border-radius: 50%;\n",
              "      cursor: pointer;\n",
              "      display: none;\n",
              "      fill: #1967D2;\n",
              "      height: 32px;\n",
              "      padding: 0 0 0 0;\n",
              "      width: 32px;\n",
              "    }\n",
              "\n",
              "    .colab-df-convert:hover {\n",
              "      background-color: #E2EBFA;\n",
              "      box-shadow: 0px 1px 2px rgba(60, 64, 67, 0.3), 0px 1px 3px 1px rgba(60, 64, 67, 0.15);\n",
              "      fill: #174EA6;\n",
              "    }\n",
              "\n",
              "    [theme=dark] .colab-df-convert {\n",
              "      background-color: #3B4455;\n",
              "      fill: #D2E3FC;\n",
              "    }\n",
              "\n",
              "    [theme=dark] .colab-df-convert:hover {\n",
              "      background-color: #434B5C;\n",
              "      box-shadow: 0px 1px 3px 1px rgba(0, 0, 0, 0.15);\n",
              "      filter: drop-shadow(0px 1px 2px rgba(0, 0, 0, 0.3));\n",
              "      fill: #FFFFFF;\n",
              "    }\n",
              "  </style>\n",
              "\n",
              "      <script>\n",
              "        const buttonEl =\n",
              "          document.querySelector('#df-44883561-1a24-4ffd-88e3-375d79f11251 button.colab-df-convert');\n",
              "        buttonEl.style.display =\n",
              "          google.colab.kernel.accessAllowed ? 'block' : 'none';\n",
              "\n",
              "        async function convertToInteractive(key) {\n",
              "          const element = document.querySelector('#df-44883561-1a24-4ffd-88e3-375d79f11251');\n",
              "          const dataTable =\n",
              "            await google.colab.kernel.invokeFunction('convertToInteractive',\n",
              "                                                     [key], {});\n",
              "          if (!dataTable) return;\n",
              "\n",
              "          const docLinkHtml = 'Like what you see? Visit the ' +\n",
              "            '<a target=\"_blank\" href=https://colab.research.google.com/notebooks/data_table.ipynb>data table notebook</a>'\n",
              "            + ' to learn more about interactive tables.';\n",
              "          element.innerHTML = '';\n",
              "          dataTable['output_type'] = 'display_data';\n",
              "          await google.colab.output.renderOutput(dataTable, element);\n",
              "          const docLink = document.createElement('div');\n",
              "          docLink.innerHTML = docLinkHtml;\n",
              "          element.appendChild(docLink);\n",
              "        }\n",
              "      </script>\n",
              "    </div>\n",
              "  </div>\n",
              "  "
            ]
          },
          "metadata": {},
          "execution_count": 23
        }
      ]
    },
    {
      "cell_type": "markdown",
      "source": [
        "# Dataset\n",
        "\n",
        "\n",
        "---\n",
        "\n",
        "\n",
        "***The dataset contains 400 entries which contains the userId, gender, age, estimatedsalary and the purchased history. The matrix of features taken into account are age and estimated salary which are going to predict if the user is going to buy new car or not(1=Yes, 0=No).***"
      ],
      "metadata": {
        "id": "hW5yd9mugT9N"
      }
    },
    {
      "cell_type": "code",
      "source": [
        "#Spliting the dataset in independent and dependent variables\n",
        "X = dataset[['Age','EstimatedSalary']]\n",
        "y = dataset['Purchased']"
      ],
      "metadata": {
        "id": "qwrPuIUbesIP"
      },
      "execution_count": null,
      "outputs": []
    },
    {
      "cell_type": "code",
      "source": [
        "from sklearn.model_selection import train_test_split"
      ],
      "metadata": {
        "id": "yEgA0T83esJ9"
      },
      "execution_count": null,
      "outputs": []
    },
    {
      "cell_type": "code",
      "source": [
        "# Splitting the dataset into the Training set and Test set\n",
        "X_train, X_test, y_train, y_test = train_test_split(X, y, test_size=0.25, random_state=42)"
      ],
      "metadata": {
        "id": "etSxqm2ResLL"
      },
      "execution_count": null,
      "outputs": []
    },
    {
      "cell_type": "code",
      "source": [
        "print(X_train.shape)\n",
        "print(X_test.shape)\n",
        "print(y_train.shape)\n",
        "print(y_test.shape)"
      ],
      "metadata": {
        "colab": {
          "base_uri": "https://localhost:8080/"
        },
        "id": "zdVqshtJDTYe",
        "outputId": "f724b0db-3484-44b2-cc8f-fdea8851d2d1"
      },
      "execution_count": null,
      "outputs": [
        {
          "output_type": "stream",
          "name": "stdout",
          "text": [
            "(300, 2)\n",
            "(100, 2)\n",
            "(300,)\n",
            "(100,)\n"
          ]
        }
      ]
    },
    {
      "cell_type": "code",
      "source": [
        "from sklearn.preprocessing import StandardScaler"
      ],
      "metadata": {
        "id": "H2e6MuiAesMz"
      },
      "execution_count": null,
      "outputs": []
    },
    {
      "cell_type": "code",
      "source": [
        "# Feature Scaling to bring the variable in a single scale\n",
        "sc_X = StandardScaler()"
      ],
      "metadata": {
        "id": "qEw_00NTe177"
      },
      "execution_count": null,
      "outputs": []
    },
    {
      "cell_type": "code",
      "source": [
        "X_train = sc_X.fit_transform(X_train)"
      ],
      "metadata": {
        "id": "l8hAngvve2CU"
      },
      "execution_count": null,
      "outputs": []
    },
    {
      "cell_type": "code",
      "source": [
        "X_test = sc_X.transform(X_test)"
      ],
      "metadata": {
        "id": "lyEA8HCse2FI",
        "colab": {
          "base_uri": "https://localhost:8080/"
        },
        "outputId": "4087d2db-80aa-49bb-8a8c-d6f10bf0b11a"
      },
      "execution_count": null,
      "outputs": [
        {
          "output_type": "stream",
          "name": "stderr",
          "text": [
            "/usr/local/lib/python3.8/dist-packages/sklearn/base.py:443: UserWarning: X has feature names, but StandardScaler was fitted without feature names\n",
            "  warnings.warn(\n"
          ]
        }
      ]
    },
    {
      "cell_type": "code",
      "source": [
        "from sklearn.linear_model import LogisticRegression"
      ],
      "metadata": {
        "id": "isiaYCkae2Hf"
      },
      "execution_count": null,
      "outputs": []
    },
    {
      "cell_type": "code",
      "source": [
        "lr = LogisticRegression(random_state=0)"
      ],
      "metadata": {
        "id": "l5VzYJAme2KC"
      },
      "execution_count": null,
      "outputs": []
    },
    {
      "cell_type": "code",
      "source": [
        "# Fitting Logistic Regression to the Training set\n",
        "lr.fit(X_train,y_train)"
      ],
      "metadata": {
        "colab": {
          "base_uri": "https://localhost:8080/"
        },
        "id": "4_id9Jo9e2Mq",
        "outputId": "6953dd87-e6ae-4e8d-a9eb-574ae5521b88"
      },
      "execution_count": null,
      "outputs": [
        {
          "output_type": "execute_result",
          "data": {
            "text/plain": [
              "LogisticRegression(random_state=0)"
            ]
          },
          "metadata": {},
          "execution_count": 37
        }
      ]
    },
    {
      "cell_type": "code",
      "source": [
        "# Predicting the Test set results\n",
        "pred = lr.predict(X_test)"
      ],
      "metadata": {
        "id": "3RBYD7pUfAhL"
      },
      "execution_count": null,
      "outputs": []
    },
    {
      "cell_type": "code",
      "source": [
        "print(pred)"
      ],
      "metadata": {
        "colab": {
          "base_uri": "https://localhost:8080/"
        },
        "id": "wFWu6-6MhEht",
        "outputId": "4eb0b654-1114-45d3-b530-366c4cc8eb6c"
      },
      "execution_count": null,
      "outputs": [
        {
          "output_type": "stream",
          "name": "stdout",
          "text": [
            "[1 1 1 1 1 1 1 1 1 1 1 1 1 1 1 1 1 1 1 1 1 1 1 1 1 1 1 1 1 1 1 1 1 1 1 1 1\n",
            " 1 1 1 1 1 1 1 1 1 1 1 1 1 1 1 1 1 1 1 1 1 1 1 1 1 1 1 1 1 1 1 1 1 1 1 1 1\n",
            " 1 1 1 1 1 1 1 1 1 1 1 1 1 1 1 1 1 1 1 1 1 1 1 1 1 1]\n"
          ]
        }
      ]
    },
    {
      "cell_type": "code",
      "source": [
        "#lets see the actual and predicted value side by side\n",
        "y_compare = np.vstack((y_test,pred)).T\n",
        "#actual value on the left side and predicted value on the right hand side\n",
        "#printing the top 5 values\n",
        "y_compare[:5,:]"
      ],
      "metadata": {
        "colab": {
          "base_uri": "https://localhost:8080/"
        },
        "id": "ebk4Haq4hEkw",
        "outputId": "3cb5ed74-103d-41fb-b3b9-8d73e4b6294c"
      },
      "execution_count": null,
      "outputs": [
        {
          "output_type": "execute_result",
          "data": {
            "text/plain": [
              "array([[0, 1],\n",
              "       [1, 1],\n",
              "       [0, 1],\n",
              "       [1, 1],\n",
              "       [0, 1]])"
            ]
          },
          "metadata": {},
          "execution_count": 40
        }
      ]
    },
    {
      "cell_type": "code",
      "source": [
        "from sklearn.metrics import confusion_matrix, classification_report"
      ],
      "metadata": {
        "id": "0DbgjuDrfAj6"
      },
      "execution_count": null,
      "outputs": []
    },
    {
      "cell_type": "code",
      "source": [
        "print(confusion_matrix(y_test,pred))"
      ],
      "metadata": {
        "colab": {
          "base_uri": "https://localhost:8080/"
        },
        "id": "rhTMi9KrfAmc",
        "outputId": "62bf8a9a-5921-4d8e-c4c8-61d5629ae479"
      },
      "execution_count": null,
      "outputs": [
        {
          "output_type": "stream",
          "name": "stdout",
          "text": [
            "[[ 0 63]\n",
            " [ 0 37]]\n"
          ]
        }
      ]
    },
    {
      "cell_type": "code",
      "source": [
        "# Making the Confusion Matrix\n",
        "cm = confusion_matrix(y_test, pred)\n",
        "print(cm)\n",
        "print('true negatives (TN): Both, actual and predicted values are false: ', cm[0,0])\n",
        "print('true positives (TP): Both, actual and predicted values are true: ', cm[1,1])\n",
        "print('false positives (FP): Predicted value is yes but actual is false: ', cm[0,1])\n",
        "print('false negative (FN): Predicted value is no but actual is true: ', cm[1,0])"
      ],
      "metadata": {
        "colab": {
          "base_uri": "https://localhost:8080/"
        },
        "id": "hL5h48mBhPV8",
        "outputId": "47c1eee6-8c97-42c0-cf0b-d0e83e4b8f42"
      },
      "execution_count": null,
      "outputs": [
        {
          "output_type": "stream",
          "name": "stdout",
          "text": [
            "[[ 0 63]\n",
            " [ 0 37]]\n",
            "true negatives (TN): Both, actual and predicted values are false:  0\n",
            "true positives (TP): Both, actual and predicted values are true:  37\n",
            "false positives (FP): Predicted value is yes but actual is false:  63\n",
            "false negative (FN): Predicted value is no but actual is true:  0\n"
          ]
        }
      ]
    },
    {
      "cell_type": "code",
      "source": [
        "print(classification_report(y_test,pred))"
      ],
      "metadata": {
        "colab": {
          "base_uri": "https://localhost:8080/"
        },
        "id": "JzZUQqpWfAoy",
        "outputId": "95293804-c111-402f-878b-9f57bede540c"
      },
      "execution_count": null,
      "outputs": [
        {
          "output_type": "stream",
          "name": "stdout",
          "text": [
            "              precision    recall  f1-score   support\n",
            "\n",
            "           0       0.00      0.00      0.00        63\n",
            "           1       0.37      1.00      0.54        37\n",
            "\n",
            "    accuracy                           0.37       100\n",
            "   macro avg       0.18      0.50      0.27       100\n",
            "weighted avg       0.14      0.37      0.20       100\n",
            "\n"
          ]
        },
        {
          "output_type": "stream",
          "name": "stderr",
          "text": [
            "/usr/local/lib/python3.8/dist-packages/sklearn/metrics/_classification.py:1318: UndefinedMetricWarning: Precision and F-score are ill-defined and being set to 0.0 in labels with no predicted samples. Use `zero_division` parameter to control this behavior.\n",
            "  _warn_prf(average, modifier, msg_start, len(result))\n",
            "/usr/local/lib/python3.8/dist-packages/sklearn/metrics/_classification.py:1318: UndefinedMetricWarning: Precision and F-score are ill-defined and being set to 0.0 in labels with no predicted samples. Use `zero_division` parameter to control this behavior.\n",
            "  _warn_prf(average, modifier, msg_start, len(result))\n",
            "/usr/local/lib/python3.8/dist-packages/sklearn/metrics/_classification.py:1318: UndefinedMetricWarning: Precision and F-score are ill-defined and being set to 0.0 in labels with no predicted samples. Use `zero_division` parameter to control this behavior.\n",
            "  _warn_prf(average, modifier, msg_start, len(result))\n"
          ]
        }
      ]
    },
    {
      "cell_type": "markdown",
      "source": [
        "# Visualization"
      ],
      "metadata": {
        "id": "WK4VI6Qghdh1"
      }
    },
    {
      "cell_type": "code",
      "source": [
        "from matplotlib.colors import ListedColormap"
      ],
      "metadata": {
        "id": "4q4BcdEOfArL"
      },
      "execution_count": null,
      "outputs": []
    },
    {
      "cell_type": "code",
      "source": [
        "X_set , y_set = X_train, y_train"
      ],
      "metadata": {
        "id": "3hSEptCefAt0"
      },
      "execution_count": null,
      "outputs": []
    },
    {
      "cell_type": "code",
      "source": [
        "X1, X2 = np.meshgrid(np.arange(start = X_set[:,0].min()-1,stop = X_set[:,0].max()+1,step = 0.01),\n",
        "                     np.arange(start = X_set[:,1].min()-1,stop = X_set[:,1].max()+1,step = 0.01)     )"
      ],
      "metadata": {
        "id": "-1_zZUZ8fMM0"
      },
      "execution_count": null,
      "outputs": []
    },
    {
      "cell_type": "code",
      "source": [
        "plt.contourf(X1,X2,lr.predict(np.array([X1.ravel(),X2.ravel()]).T).reshape(X1.shape),alpha = 0.75,cmap = ListedColormap(('red','green')))\n",
        "plt.xlim(X1.min(),X1.max())\n",
        "plt.ylim(X2.min(),X2.max())\n",
        "for i,j in enumerate(np.unique(y_set)):\n",
        "    plt.scatter(X_set[y_set == j,0],X_set[y_set == j,1],cmap=ListedColormap(('red','green'))(i),label=j, edgecolor=\"white\")\n",
        "plt.title('Logistic Regression(training set)')\n",
        "plt.xlabel('Age')\n",
        "plt.ylabel('Estimated Salary')"
      ],
      "metadata": {
        "colab": {
          "base_uri": "https://localhost:8080/",
          "height": 313
        },
        "id": "8cpGAFNpfMPi",
        "outputId": "9f161ab6-b850-429b-b7b2-0f37f3f1b30d"
      },
      "execution_count": null,
      "outputs": [
        {
          "output_type": "execute_result",
          "data": {
            "text/plain": [
              "Text(0, 0.5, 'Estimated Salary')"
            ]
          },
          "metadata": {},
          "execution_count": 45
        },
        {
          "output_type": "display_data",
          "data": {
            "text/plain": [
              "<Figure size 432x288 with 1 Axes>"
            ],
            "image/png": "[encoded data removed]"
          },
          "metadata": {
            "needs_background": "light"
          }
        }
      ]
    },
    {
      "cell_type": "code",
      "source": [
        "X_set , y_set = X_test, y_test\n",
        "X1, X2 = np.meshgrid(np.arange(start = X_set[:,0].min()-1,stop = X_set[:,0].max()+1,step = 0.01),\n",
        "                     np.arange(start = X_set[:,1].min()-1,stop = X_set[:,1].max()+1,step = 0.01)     )\n",
        "plt.contourf(X1,X2,lr.predict(np.array([X1.ravel(),X2.ravel()]).T).reshape(X1.shape),alpha = 0.75,cmap = ListedColormap(('red','green')))\n",
        "plt.xlim(X1.min(),X1.max())\n",
        "plt.ylim(X2.min(),X2.max())\n",
        "for i,j in enumerate(np.unique(y_set)):\n",
        "    plt.scatter(X_set[y_set == j,0],X_set[y_set == j,1],cmap=ListedColormap(('red','green'))(i),label=j, edgecolor=\"white\")\n",
        "plt.title('Logistic Regression(test set)')\n",
        "plt.xlabel('Age')\n",
        "plt.ylabel('Estimated Salary')"
      ],
      "metadata": {
        "colab": {
          "base_uri": "https://localhost:8080/",
          "height": 313
        },
        "id": "dVMIoNlcfMSc",
        "outputId": "5c7d9fe4-24be-48a8-b9d7-fee2a71b3b05"
      },
      "execution_count": null,
      "outputs": [
        {
          "output_type": "execute_result",
          "data": {
            "text/plain": [
              "Text(0, 0.5, 'Estimated Salary')"
            ]
          },
          "metadata": {},
          "execution_count": 29
        },
        {
          "output_type": "display_data",
          "data": {
            "text/plain": [
              "<Figure size 432x288 with 1 Axes>"
            ],
            "image/png": "[encoded data removed]"
          },
          "metadata": {
            "needs_background": "light"
          }
        }
      ]
    },
    {
      "cell_type": "code",
      "source": [],
      "metadata": {
        "id": "O0JDJbrYfMVE"
      },
      "execution_count": null,
      "outputs": []
    },
    {
      "cell_type": "code",
      "source": [],
      "metadata": {
        "id": "HjcEsiX8fMa_"
      },
      "execution_count": null,
      "outputs": []
    },
    {
      "cell_type": "code",
      "source": [],
      "metadata": {
        "id": "oD_O_q9sfMd8"
      },
      "execution_count": null,
      "outputs": []
    }
  ]
}