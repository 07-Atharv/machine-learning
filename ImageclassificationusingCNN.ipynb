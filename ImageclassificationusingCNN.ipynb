{
  "nbformat": 4,
  "nbformat_minor": 0,
  "metadata": {
    "colab": {
      "provenance": []
    },
    "kernelspec": {
      "name": "python3",
      "display_name": "Python 3"
    },
    "language_info": {
      "name": "python"
    }
  },
  "cells": [
    {
      "cell_type": "code",
      "execution_count": null,
      "metadata": {
        "id": "En65z_h8YhHQ"
      },
      "outputs": [],
      "source": [
        "#Importing the tensor to build machine learning model\n",
        "import tensorflow as tf\n",
        "#Importing the keras for the dataset which is build by keras and layers to optimize the value and models\n",
        "from tensorflow.keras import datasets, layers, models\n",
        "#Importing matplotlib for graphical visualization\n",
        "import matplotlib.pyplot as plt\n",
        "#These is for layers\n",
        "from tensorflow.keras import layers\n",
        "#These is for models\n",
        "from tensorflow.keras import models\n",
        "from tensorflow.keras import optimizers"
      ]
    },
    {
      "cell_type": "code",
      "source": [
        "#These is used to download the dataset from the builtin library\n",
        "(train_images,train_labels),(test_images,test_labels)=datasets.cifar10.load_data()"
      ],
      "metadata": {
        "id": "1g_F9TfEZXLb"
      },
      "execution_count": null,
      "outputs": []
    },
    {
      "cell_type": "code",
      "source": [
        "# These is used to reshape the images\n",
        "train_images,test_images=train_images / 255.0 , test_images / 255.0"
      ],
      "metadata": {
        "id": "TInnoZqDaB1r"
      },
      "execution_count": null,
      "outputs": []
    },
    {
      "cell_type": "code",
      "source": [
        "#These is used to create the layers one by one in the sequential stack\n",
        "model = models.Sequential()"
      ],
      "metadata": {
        "id": "b5bSGRqVavfE"
      },
      "execution_count": null,
      "outputs": []
    },
    {
      "cell_type": "code",
      "source": [
        "# Conv2D is a function that helps create the convolutional layers in neural networks\n",
        "model.add(layers.Conv2D(32, (3, 3), activation='relu',\n",
        "input_shape=(32, 32, 3)))\n",
        "model.add(layers.MaxPooling2D((2, 2)))"
      ],
      "metadata": {
        "id": "cO7UGkr8a2P6"
      },
      "execution_count": null,
      "outputs": []
    },
    {
      "cell_type": "code",
      "source": [
        "# Conv2D is a function that helps create the convolutional layers in neural networks\n",
        "model.add(layers.Conv2D(64,(3,3),activation='relu'))\n",
        "model.add(layers.MaxPooling2D((2,2)))"
      ],
      "metadata": {
        "id": "wfA5WzTxbZu0"
      },
      "execution_count": null,
      "outputs": []
    },
    {
      "cell_type": "code",
      "source": [
        "# Conv2D is a function that helps create the convolutional layers in neural networks\n",
        "model.add(layers.Conv2D(64,(3,3),activation='relu'))\n",
        "model.add(layers.MaxPooling2D((2,2)))"
      ],
      "metadata": {
        "id": "VW01o68wbfhL"
      },
      "execution_count": null,
      "outputs": []
    },
    {
      "cell_type": "code",
      "source": [
        "#to return a copy of a given array in such a way that it is collapsed into one dimension.\n",
        "model.add(layers.Flatten())"
      ],
      "metadata": {
        "id": "tq8JtcRsbmiy"
      },
      "execution_count": null,
      "outputs": []
    },
    {
      "cell_type": "code",
      "source": [
        "# These method is used to feeds all outputs from the previous layer to all its neurons, each neuron providing one output to the next layer\n",
        "model.add(layers.Dense(512,activation='relu'))\n",
        "model.add(layers.Dense(10))"
      ],
      "metadata": {
        "id": "zzraUTaCcQkT"
      },
      "execution_count": null,
      "outputs": []
    },
    {
      "cell_type": "code",
      "source": [
        "#The adam optimizer is used to adjust the parameter during the runtime\n",
        "#Sparse categorical cross-entropy is an extension of the categorical cross-entropy loss function that is used when the output labels are represented in a sparse matrix format\n",
        "#which is used to check the error of the network\n",
        "model.compile(optimizer='adam',loss=tf.keras.losses.SparseCategoricalCrossentropy(from_logits=True),\n",
        "metrics=['accuracy'])"
      ],
      "metadata": {
        "id": "3FeBGeo3cvVT"
      },
      "execution_count": null,
      "outputs": []
    },
    {
      "cell_type": "code",
      "source": [
        "#Now giving the training to the model by setting up the values of the epoch\n",
        "history = model.fit(train_images,train_labels,epochs=10,validation_data=(test_images,test_labels))"
      ],
      "metadata": {
        "colab": {
          "base_uri": "https://localhost:8080/"
        },
        "id": "JGiZK-d8eV97",
        "outputId": "02cc8aa6-dc89-4275-cd21-ab17b7c9c501"
      },
      "execution_count": null,
      "outputs": [
        {
          "output_type": "stream",
          "name": "stdout",
          "text": [
            "Epoch 1/6\n",
            "1563/1563 [==============================] - 79s 49ms/step - loss: 1.4986 - accuracy: 0.4478 - val_loss: 1.2058 - val_accuracy: 0.5721\n",
            "Epoch 2/6\n",
            "1563/1563 [==============================] - 76s 48ms/step - loss: 1.1282 - accuracy: 0.5996 - val_loss: 1.0441 - val_accuracy: 0.6298\n",
            "Epoch 3/6\n",
            "1563/1563 [==============================] - 73s 47ms/step - loss: 0.9756 - accuracy: 0.6572 - val_loss: 0.9981 - val_accuracy: 0.6449\n",
            "Epoch 4/6\n",
            "1563/1563 [==============================] - 76s 49ms/step - loss: 0.8695 - accuracy: 0.6931 - val_loss: 0.9248 - val_accuracy: 0.6778\n",
            "Epoch 5/6\n",
            "1563/1563 [==============================] - 79s 50ms/step - loss: 0.7928 - accuracy: 0.7212 - val_loss: 0.9083 - val_accuracy: 0.6853\n",
            "Epoch 6/6\n",
            "1563/1563 [==============================] - 76s 48ms/step - loss: 0.7223 - accuracy: 0.7467 - val_loss: 0.8507 - val_accuracy: 0.7081\n"
          ]
        }
      ]
    },
    {
      "cell_type": "code",
      "source": [
        "plt.plot(history.history['val_accuracy'],label='val_accuracy')\n",
        "plt.xlabel('Number of epochs')\n",
        "plt.ylabel('Accuracy')\n",
        "plt.ylim([0.5,1])\n",
        "plt.legend(loc='lower right')\n",
        "#Print the output\n",
        "test_loss, test_acc = model.evaluate(test_images, test_labels,\n",
        "verbose=2)"
      ],
      "metadata": {
        "colab": {
          "base_uri": "https://localhost:8080/",
          "height": 472
        },
        "id": "tR9q58MVfibt",
        "outputId": "63236b25-5ae3-45fd-9786-3714cd18da41"
      },
      "execution_count": null,
      "outputs": [
        {
          "output_type": "stream",
          "name": "stdout",
          "text": [
            "313/313 - 4s - loss: 0.8507 - accuracy: 0.7081 - 4s/epoch - 12ms/step\n"
          ]
        },
        {
          "output_type": "display_data",
          "data": {
            "text/plain": [
              "<Figure size 640x480 with 1 Axes>"
            ],
            "image/png": "[encoded data removed]"
          },
          "metadata": {}
        }
      ]
    }
  ]
}